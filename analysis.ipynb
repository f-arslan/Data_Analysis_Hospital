{
 "cells": [
  {
   "cell_type": "code",
   "execution_count": 176,
   "metadata": {},
   "outputs": [],
   "source": [
    "import pandas as pd\n",
    "import matplotlib.pyplot as plt\n",
    "from collections import defaultdict\n",
    "import seaborn as sns"
   ]
  },
  {
   "cell_type": "code",
   "execution_count": 2,
   "metadata": {},
   "outputs": [],
   "source": [
    "pd.set_option(\"display.max_columns\", 8)\n",
    "\n",
    "# Read in the data\n",
    "general = pd.read_csv(\"task/test/general.csv\")\n",
    "prenatal = pd.read_csv(\"task/test/prenatal.csv\")\n",
    "sports = pd.read_csv(\"task/test/sports.csv\")\n"
   ]
  },
  {
   "cell_type": "code",
   "execution_count": 3,
   "metadata": {},
   "outputs": [],
   "source": [
    "# Rename for clarity and overlapping columns\n",
    "prenatal.rename(columns={\"HOSPITAL\": \"hospital\", \"Sex\": \"gender\"}, inplace=True)\n",
    "sports.rename(columns={\"Hospital\": \"hospital\", \"Male/female\": \"gender\"}, inplace=True)\n",
    "\n",
    "# Merge all the DataFrame\n",
    "concat_df = pd.concat([general, prenatal, sports], ignore_index=True)\n",
    "concat_df.drop(columns=[\"Unnamed: 0\"], inplace=True)\n"
   ]
  },
  {
   "cell_type": "code",
   "execution_count": 5,
   "metadata": {},
   "outputs": [],
   "source": [
    "# Stage 3\n",
    "# Change \"Female\" in gender column to \"f\"\n",
    "concat_df.gender.replace(\"female\", \"f\", inplace=True)\n",
    "concat_df.gender.replace(\"male\", \"m\", inplace=True)\n",
    "concat_df.gender.replace(\"man\", \"m\", inplace=True)\n",
    "concat_df.gender.replace(\"woman\", \"f\", inplace=True)\n",
    "# Change the NaN values in gender column to \"f\" if the hospital is prenatal\n",
    "concat_df.loc[\n",
    "    ((concat_df.hospital == \"prenatal\") & (concat_df.gender.isna())), \"gender\"\n",
    "] = \"f\"\n",
    "# Replace NaN values in some columns with zeros\n",
    "concat_df.loc[(concat_df.mri.isna()), \"mri\"] = 0\n",
    "concat_df.loc[(concat_df.bmi.isna()), \"bmi\"] = 0\n",
    "concat_df.loc[(concat_df.blood_test.isna()), \"blood_test\"] = 0\n",
    "concat_df.loc[(concat_df.ecg.isna()), \"ecg\"] = 0\n",
    "concat_df.loc[(concat_df.ultrasound.isna()), \"ultrasound\"] = 0\n",
    "concat_df.loc[(concat_df.xray.isna()), \"xray\"] = 0\n",
    "concat_df.loc[(concat_df.children.isna()), \"children\"] = 0\n",
    "concat_df.loc[(concat_df.months.isna()), \"months\"] = 0\n",
    "concat_df.dropna(inplace=True)\n"
   ]
  },
  {
   "cell_type": "code",
   "execution_count": 72,
   "metadata": {},
   "outputs": [
    {
     "name": "stdout",
     "output_type": "stream",
     "text": [
      "The answer to the 1st question is general\n",
      "The answer to the 2nd question is 0.325\n",
      "The answer to the 3rd question is 0.285\n",
      "The answer to the 4th question is 19\n",
      "The answer to the 5th question is prenatal, 325 blood tests\n"
     ]
    }
   ],
   "source": [
    "# Stage 4\n",
    "# Q1 - Which hospital has the highest number of patients?\n",
    "print(\n",
    "    \"The answer to the 1st question is\", concat_df.groupby([\"hospital\"]).size().idxmax()\n",
    ")\n",
    "# Q2 - What share of the patients in the general hospital suffers from stomach-related issues? Round the result to the third decimal place.\n",
    "print(\n",
    "    \"The answer to the 2nd question is\",\n",
    "    round(\n",
    "        concat_df.loc[\n",
    "            (concat_df.hospital == \"general\") & (concat_df.diagnosis == \"stomach\"),\n",
    "            \"diagnosis\",\n",
    "        ].count()\n",
    "        / concat_df.loc[(concat_df.hospital == \"general\"), \"diagnosis\"].count(),\n",
    "        3,\n",
    "    ),\n",
    ")\n",
    "# Q3 - What share of the patients in the sports hospital suffers from dislocation-related issues? Round the result to the third decimal place.\n",
    "print(\n",
    "    \"The answer to the 3rd question is\",\n",
    "    round(\n",
    "        concat_df.loc[\n",
    "            (concat_df.hospital == \"sports\") & (concat_df.diagnosis == \"dislocation\"),\n",
    "            \"diagnosis\",\n",
    "        ].count()\n",
    "        / concat_df.loc[(concat_df.hospital == \"sports\"), \"diagnosis\"].count(),\n",
    "        3,\n",
    "    ),\n",
    ")\n",
    "# Q4 - What is the difference in the median ages of the patients in the general and sports hospitals?\n",
    "general_sports_median = concat_df.loc[concat_df.hospital == \"general\", \"age\"].median()\n",
    "sports_general_median = concat_df.loc[concat_df.hospital == \"sports\", \"age\"].median()\n",
    "print(\n",
    "    \"The answer to the 4th question is\",\n",
    "    int(general_sports_median - sports_general_median),\n",
    ")\n",
    "\"\"\"\n",
    "Q5 - After data processing at the previous stages, the blood_test column has three values: t= a blood test was taken, f= a blood test wasn't taken, \n",
    "and 0= there is no information. In which hospital the blood test was taken the most often (there is the biggest number of t in the blood_test column \n",
    "among all the hospitals)? How many blood tests were taken?\n",
    "\"\"\"\n",
    "hospital_blood_test_df = pd.concat([concat_df.hospital, concat_df.blood_test], axis=1)\n",
    "# Count the blood test is equal to t\n",
    "blood_test_df = (\n",
    "    hospital_blood_test_df.loc[hospital_blood_test_df.blood_test == \"t\"]\n",
    "    .groupby(hospital_blood_test_df.hospital)\n",
    "    .count()\n",
    ")\n",
    "hospital_name = blood_test_df.idxmax()[0]\n",
    "print(\n",
    "    \"The answer to the 5th question is\",\n",
    "    hospital_name + \",\",\n",
    "    blood_test_df.max()[0],\n",
    "    \"blood tests\",\n",
    ")\n"
   ]
  },
  {
   "cell_type": "code",
   "execution_count": null,
   "metadata": {},
   "outputs": [],
   "source": [
    "# Stage 5\n",
    "plt.figure(1)\n",
    "intervals = [0, 15, 35, 55, 70, 80]\n",
    "new_df = pd.concat([concat_df.age, concat_df.hospital], axis=1)\n",
    "new_df.age = pd.cut(new_df.age, intervals)\n",
    "print(\"The answer to the 1st question:\",\n",
    "        str(new_df.age.value_counts().idxmax().left) + \"-\" + str(new_df.age.value_counts().idxmax().right))\n",
    "new_df.age.value_counts().plot(kind=\"hist\")\n",
    "plt.show()\n",
    "plt.figure(2)\n",
    "print(\"The answer to the 2nd question: pregnancy\")\n",
    "plt.pie(concat_df.diagnosis.value_counts())\n",
    "plt.show()\n",
    "plt.figure(3)\n",
    "# Build a violin plot of height distribution by hospitals.\n",
    "sns.violinplot(data=concat_df.height)\n",
    "plt.show()\n",
    "\n",
    "\n"
   ]
  },
  {
   "cell_type": "code",
   "execution_count": 6,
   "metadata": {},
   "outputs": [
    {
     "name": "stdout",
     "output_type": "stream",
     "text": [
      "Data shape: (1000, 14)\n",
      "     hospital gender   age  height  ...  mri  xray children months\n",
      "929    sports      f  23.0   6.809  ...    t     f      0.0    0.0\n",
      "927    sports      m  21.0   6.052  ...    t     f      0.0    0.0\n",
      "516  prenatal      f  20.0   1.650  ...    0     f      1.0    4.0\n",
      "87    general      m  54.0   1.720  ...    0     0      0.0    0.0\n",
      "885    sports      f  16.0   5.915  ...    t     f      0.0    0.0\n",
      "463  prenatal      f  34.0   1.650  ...    0     f      1.0    5.0\n",
      "112   general      m  77.0   1.690  ...    0     0      0.0    0.0\n",
      "297   general      m  56.0   1.480  ...    0     0      0.0    0.0\n",
      "417   general      f  26.0   1.650  ...    0     0      0.0    0.0\n",
      "660  prenatal      f  38.0   1.590  ...    0     f      1.0    4.0\n",
      "344   general      f  60.0   1.410  ...    0     0      0.0    0.0\n",
      "834    sports      f  21.0   5.585  ...    f     t      0.0    0.0\n",
      "10    general      m  27.0   1.850  ...    0     0      0.0    0.0\n",
      "56    general      m  23.0   1.650  ...    0     0      0.0    0.0\n",
      "616  prenatal      f  33.0   1.770  ...    0     f      1.0    7.0\n",
      "479  prenatal      f  35.0   1.810  ...    0     f      1.0    8.0\n",
      "578  prenatal      f  31.0   1.770  ...    0     f      1.0    8.0\n",
      "411   general      m  26.0   1.610  ...    0     0      0.0    0.0\n",
      "521  prenatal      f  30.0   1.740  ...    0     f      1.0    3.0\n",
      "941    sports      f  25.0   6.208  ...    f     t      0.0    0.0\n",
      "\n",
      "[20 rows x 14 columns]\n"
     ]
    }
   ],
   "source": [
    "print(\"Data shape:\", concat_df.shape)\n",
    "print(pd.DataFrame.sample(n=20, random_state=30, self=concat_df))\n"
   ]
  }
 ],
 "metadata": {
  "interpreter": {
   "hash": "916dbcbb3f70747c44a77c7bcd40155683ae19c65e1c03b4aa3499c5328201f1"
  },
  "kernelspec": {
   "display_name": "Python 3.8.10 64-bit",
   "language": "python",
   "name": "python3"
  },
  "language_info": {
   "codemirror_mode": {
    "name": "ipython",
    "version": 3
   },
   "file_extension": ".py",
   "mimetype": "text/x-python",
   "name": "python",
   "nbconvert_exporter": "python",
   "pygments_lexer": "ipython3",
   "version": "3.8.10"
  },
  "orig_nbformat": 4
 },
 "nbformat": 4,
 "nbformat_minor": 2
}
