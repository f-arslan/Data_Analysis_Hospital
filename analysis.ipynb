{
 "cells": [
  {
   "cell_type": "code",
   "execution_count": 3,
   "metadata": {},
   "outputs": [],
   "source": [
    "import pandas as pd"
   ]
  },
  {
   "cell_type": "code",
   "execution_count": 37,
   "metadata": {},
   "outputs": [],
   "source": [
    "pd.set_option('display.max_columns', 8)\n",
    "\n",
    "# Read in the data\n",
    "general = pd.read_csv('task/test/general.csv')\n",
    "prenatal = pd.read_csv('task/test/prenatal.csv')\n",
    "sports = pd.read_csv('task/test/sports.csv')"
   ]
  },
  {
   "cell_type": "code",
   "execution_count": 38,
   "metadata": {},
   "outputs": [],
   "source": [
    "# Rename for clarity and overlapping columns\n",
    "prenatal.rename(columns={\"HOSPITAL\": \"hospital\", \"Sex\": \"gender\"}, inplace=True)\n",
    "sports.rename(columns={\"Hospital\": \"hospital\", \"Male/female\": \"gender\"}, inplace=True)\n",
    "\n",
    "# Merge all the DataFrame\n",
    "concat_df = pd.concat([general, prenatal, sports], ignore_index=True)\n",
    "concat_df.drop(columns=[\"Unnamed: 0\"], inplace=True)"
   ]
  },
  {
   "cell_type": "code",
   "execution_count": 49,
   "metadata": {},
   "outputs": [],
   "source": [
    "# Stage 3\n",
    "# Change \"Female\" in gender column to \"f\"\n",
    "concat_df.gender.replace(\"female\", \"f\", inplace=True)\n",
    "concat_df.gender.replace(\"male\", \"m\", inplace=True)\n",
    "concat_df.gender.replace(\"man\", \"m\", inplace=True)\n",
    "concat_df.gender.replace(\"woman\", \"f\", inplace=True)\n",
    "# Change the NaN values in gender column to \"f\" if the hospital is prenatal\n",
    "concat_df.loc[((concat_df.hospital == \"prenatal\") & (concat_df.gender.isna())), 'gender'] = \"f\"\n",
    "# Replace NaN values in some columns with zeros\n",
    "concat_df.loc[(concat_df.mri.isna()), 'mri'] = 0\n",
    "concat_df.loc[(concat_df.bmi.isna()), 'bmi'] = 0\n",
    "concat_df.loc[(concat_df.blood_test.isna()), 'blood_test'] = 0\n",
    "concat_df.loc[(concat_df.ecg.isna()), 'ecg'] = 0\n",
    "concat_df.loc[(concat_df.ultrasond.isna()), 'ultrasond'] = 0\n",
    "concat_df.loc[(concat_df.xray.isna()), 'xray'] = 0\n",
    "concat_df.loc[(concat_df.children.isna()), 'children'] = 0\n",
    "concat_df.loc[(concat_df.months.isna()), 'months'] = 0\n",
    "concat_df.dropna(inplace=True)"
   ]
  },
  {
   "cell_type": "code",
   "execution_count": 50,
   "metadata": {},
   "outputs": [
    {
     "name": "stdout",
     "output_type": "stream",
     "text": [
      "Data shape: (480, 15)\n",
      "     hospital gender   age  height  ...  xray  children months ultrasond\n",
      "504  prenatal      f  19.0    1.79  ...     f       2.0    6.0       0.0\n",
      "396   general      m  32.0    2.02  ...     0       0.0    0.0       0.0\n",
      "781  prenatal      f  21.0    1.74  ...     f       1.0    6.0       0.0\n",
      "75    general      f  33.0    1.58  ...     0       0.0    0.0       0.0\n",
      "407   general      m  61.0    2.13  ...     0       0.0    0.0       0.0\n",
      "747  prenatal      f  32.0    1.86  ...     f       1.0    4.0       0.0\n",
      "228   general      m  42.0    1.48  ...     0       0.0    0.0       0.0\n",
      "330   general      m  37.0    1.92  ...     0       0.0    0.0       0.0\n",
      "711  prenatal      f  30.0    1.58  ...     f       0.0    6.0       0.0\n",
      "652  prenatal      f  35.0    1.61  ...     f       0.0    8.0       0.0\n",
      "224   general      m  28.0    1.89  ...     0       0.0    0.0       0.0\n",
      "1     general      m  48.0    1.93  ...     0       0.0    0.0       0.0\n",
      "598  prenatal      f  31.0    1.56  ...     f       0.0    3.0       0.0\n",
      "287   general      m  42.0    1.76  ...     0       0.0    0.0       0.0\n",
      "63    general      m  29.0    1.71  ...     0       0.0    0.0       0.0\n",
      "93    general      m  51.0    1.87  ...     0       0.0    0.0       0.0\n",
      "702  prenatal      f  41.0    1.70  ...     f       1.0    5.0       0.0\n",
      "68    general      f  19.0    1.61  ...     0       0.0    0.0       0.0\n",
      "200   general      f  42.0    2.03  ...     0       0.0    0.0       0.0\n",
      "581  prenatal      f  33.0    1.64  ...     f       0.0    4.0       0.0\n",
      "\n",
      "[20 rows x 15 columns]\n"
     ]
    }
   ],
   "source": [
    "print(\"Data shape:\", concat_df.shape)\n",
    "print(pd.DataFrame.sample(n=20, random_state=30, self=concat_df))"
   ]
  }
 ],
 "metadata": {
  "interpreter": {
   "hash": "916dbcbb3f70747c44a77c7bcd40155683ae19c65e1c03b4aa3499c5328201f1"
  },
  "kernelspec": {
   "display_name": "Python 3.8.10 64-bit",
   "language": "python",
   "name": "python3"
  },
  "language_info": {
   "codemirror_mode": {
    "name": "ipython",
    "version": 3
   },
   "file_extension": ".py",
   "mimetype": "text/x-python",
   "name": "python",
   "nbconvert_exporter": "python",
   "pygments_lexer": "ipython3",
   "version": "3.8.10"
  },
  "orig_nbformat": 4
 },
 "nbformat": 4,
 "nbformat_minor": 2
}
